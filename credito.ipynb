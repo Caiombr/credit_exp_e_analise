{
 "cells": [
  {
   "cell_type": "markdown",
   "metadata": {},
   "source": [
    "# **Exploração e análise de dados de crédito com SQL**"
   ]
  },
  {
   "cell_type": "markdown",
   "metadata": {},
   "source": [
    "## Os dados: "
   ]
  },
  {
   "cell_type": "markdown",
   "metadata": {},
   "source": [
    "Os dados representam informações de clientes de um banco e contam com as seguintes colunas: \n",
    "\n",
    "* idade = idade do cliente\n",
    "* sexo = sexo do cliente (F ou M)\n",
    "* dependentes = número de dependentes do cliente\n",
    "* escolaridade = nível de escolaridade do clientes\n",
    "* estado_civil = estado civil dos clientes\n",
    "* salario_anual = faixa salarial do cliente\n",
    "* tipo_cartao = tipo de cartao do cliente\n",
    "* meses_de_relacionamento = quantidade de meses do cliente desde o seu cadastro\n",
    "* qtd_produtos = quantidade de produtos comprados nos últimos 12 meses\n",
    "* iteracoes_12m = quantidade de iterações/transacoes nos ultimos 12 meses\n",
    "* meses_inativo_12m = quantidade de meses que o cliente ficou inativo\n",
    "* limite_credito = limite de credito do cliente\n",
    "* valor_transacoes_12m = valor das transações dos ultimos 12 meses\n",
    "* qtd_transacoes_12m  = quantidade de transacoes dos ultimos 12 meses\n",
    "\n",
    "A tabela foi criada no **AWS Athena** junto com o **S3 Bucket** com uma versão dos dados disponibilizados em: https://github.com/andre-marcos-perez/ebac-course-utils/tree/main/dataset"
   ]
  },
  {
   "cell_type": "markdown",
   "metadata": {},
   "source": [
    "Foi também utilizado o pacote o pacote pandas no para fazer a conversão da virgulas em ponto nas colunas de valores monetários, garantindo que o AWS entenda corretamente os dados do dataset."
   ]
  },
  {
   "cell_type": "code",
   "execution_count": 1,
   "metadata": {},
   "outputs": [],
   "source": [
    "import pandas as pd\n",
    "\n",
    "# Leitura do arquivo, convertendo os valores com virgula para valores com ponto.\n",
    "teste = pd.read_excel('credito1.xlsx')\n",
    "# Remoção das colunas que não serão utilizadas para o estudo.\n",
    "teste = teste.drop(['id','default'],axis=1)\n",
    "# Geração do arquivo no formato csv sem o index e o header, separando as colunas com a virgula\n",
    "teste.to_csv('credito1.csv',sep=',',index=None,header=None)"
   ]
  },
  {
   "cell_type": "markdown",
   "metadata": {},
   "source": [
    "## **Exploração de dados:**"
   ]
  },
  {
   "cell_type": "markdown",
   "metadata": {},
   "source": [
    "Antes de mais nada, é importante ter um entendimento sobre o dataset e suas caracteristicas, para uma melhor análise posterior."
   ]
  },
  {
   "cell_type": "markdown",
   "metadata": {},
   "source": [
    "**Qual a quantidade de informações temos na nossa base de dados?**\n",
    "\n",
    "Query: SELECT count(*) FROM credito\n",
    "> Resposta: 10127 linhas"
   ]
  },
  {
   "cell_type": "markdown",
   "metadata": {},
   "source": [
    "**Como são os dados** \n",
    "\n",
    "Query: SELECT * FROM credito LIMIT 10;\n",
    "\n",
    "![Dez primeiras linhas do dataset](https://raw.githubusercontent.com/Caiombr/credit_exp_e_analise/0ae0d2ce516bd26e6d8fbfa9c713c3a54f14386c/results/limite10.png)\n",
    "\n",
    "> É possível reparar que existem algumas informações nulas na tabela (valor na), vamos olhar mais de perto para os valores de cada coluna! "
   ]
  },
  {
   "cell_type": "markdown",
   "metadata": {},
   "source": [
    "\n",
    "**Quais os tipos de cada coluna?**\n",
    "\n",
    "**Query:** DESCRIBE credito\n",
    "\n",
    "![Descrição dos tipos de dados](https://raw.githubusercontent.com/Caiombr/credit_exp_e_analise/main/results/describe.jpg)\n",
    "\n",
    "Agora que ja entendemos quais são os tipos de dados, vamos olhar mais atentamente para as varíaveis que não são numéricas."
   ]
  },
  {
   "cell_type": "markdown",
   "metadata": {},
   "source": [
    "**Quais são os tipos de escolaridade disponíveis no dataset?**\n",
    "\n",
    "**Query:** SELECT DISTINCT escolaridade FROM credito\n",
    "\n",
    "![Tipos de escolaridade](https://raw.githubusercontent.com/Caiombr/credit_exp_e_analise/main/results/escolaridade.png)\n",
    "\n",
    "\n",
    "> Os dados contam com vários níveis de escolaridade e é possível perceber que temos valores nulos (na) no dataset, trataremos isso mais tarde!\n",
    "\n",
    "Será que temos mais valores nulos?"
   ]
  },
  {
   "cell_type": "markdown",
   "metadata": {},
   "source": [
    "**Quais são os tipos de estado_civil disponíveis no dataset?**\n",
    "\n",
    "**Query:** SELECT DISTINCT estado_civil  FROM credito\n",
    "\n",
    "![Tipos de estado civil](https://raw.githubusercontent.com/Caiombr/credit_exp_e_analise/main/results/estadocivil.png)\n",
    "\n",
    "> Novamente encontramos valores nulos nos dados de estado civil!"
   ]
  },
  {
   "cell_type": "markdown",
   "metadata": {},
   "source": [
    "**Quais são os tipos de salario_anual disponíveis no dataset?**\n",
    "\n",
    "**Query:** SELECT DISTINCT salario_anual  FROM credito\n",
    "\n",
    "![Tipos de salario anual](https://raw.githubusercontent.com/Caiombr/credit_exp_e_analise/main/results/salarioanual.png)\n",
    "\n",
    "> Os salários nesse dataset não estão expostas com o valor exato que o cliente ganha. O que está informado é a faixa salarial de cada um. Também contem dados nulos. "
   ]
  },
  {
   "cell_type": "markdown",
   "metadata": {},
   "source": [
    "**Quais são os tipos de cartão disponíveis no dataset?**\n",
    "\n",
    "**Query:** SELECT DISTINCT tipo_cartao  FROM credito\n",
    "\n",
    "![Tipos de Cartão](https://raw.githubusercontent.com/Caiombr/credit_exp_e_analise/main/results/tipocartao.png)\n",
    "\n",
    "> Aqui vemos que não há necessidade de tratar valores nulos."
   ]
  },
  {
   "cell_type": "markdown",
   "metadata": {},
   "source": [
    "## **Análise de dados**"
   ]
  },
  {
   "cell_type": "markdown",
   "metadata": {},
   "source": [
    "Uma vez que exploramos o dados e buscamos entender quais são as informações que temos no nosso banco de dados, podemos analisar as informações para buscar entender o que está acontecendo no banco de dados. Vamos fazer perguntas:"
   ]
  },
  {
   "cell_type": "markdown",
   "metadata": {},
   "source": [
    "**Nesse banco de dados, quantos clientes temos por cada faixa salarial?**\n",
    "\n",
    "**Query:** select count(*) as quantidade, salario_anual from credito group by salario_anual order by quantidade desc;\n",
    "\n",
    "![Quantidade para cada faixa salarial](https://raw.githubusercontent.com/Caiombr/credit_exp_e_analise/main/results/qtdeporsalario.png)\n",
    "\n",
    "Aproveitar os dados para gerar um gráfico, facilita a interpretação dos dados.\n",
    "\n",
    "![Gráfico da quantidade x faixa salarial](https://raw.githubusercontent.com/Caiombr/credit_exp_e_analise/main/results/qtdeporsalarioplot.png)\n",
    "\n",
    "\n",
    "\n",
    "> Pelo menos 35% dos clientes possuem uma renda menor que 40K e existem 1112 clientes que não informaram ou não consta a faixa salarial. \n",
    "\n",
    "> Pensando no maior público, pode ser interessante para a empresa focar nesse público de mais baixa renda. "
   ]
  },
  {
   "cell_type": "markdown",
   "metadata": {},
   "source": [
    "**Nesse banco de dados, quantos clientes são homens e quantos são mulheres?**\n",
    "\n",
    "**Query:** select count(*) as Quantidade, sexo from credito group by sexo\n",
    "\n",
    "\n",
    "![Quantidade para cada sexo](https://raw.githubusercontent.com/Caiombr/credit_exp_e_analise/main/results/qtdeporsexo.png)\n",
    "\n",
    "Utilizando do excel para gerar novamente os gráficos:\n",
    "\n",
    "![Quantidade para cada sexo - gráfico](https://raw.githubusercontent.com/Caiombr/credit_exp_e_analise/main/results/qtdeporsexoplot.png)\n",
    "\n",
    "> A maioria dos clientes desse banco é do sexo feminino. Porém, a proporção está bem equilibrada."
   ]
  },
  {
   "cell_type": "markdown",
   "metadata": {},
   "source": [
    "**Queremos focar o nosso marketing de maneira adequada para nossos clientes, qual será a idade deles?**\n",
    "\n",
    "**Query:** select avg(idade) as media_idade, min(idade) as min_idade, max(idade) as max_idade, sexo from credito group by sexo\n",
    "\n",
    "![Média de idades por sexo](https://raw.githubusercontent.com/Caiombr/credit_exp_e_analise/main/results/mediaidade.png)\n",
    "\n",
    "> Por meio dessa análise não foi possível extrair nenhuma informação relevante.  A menor idade dos dois sexos é a mesma e a média é muito similar. A unica  diferença é a idade máxima. mas isso não foi delimitante para interferir substancialmente no resultado."
   ]
  },
  {
   "cell_type": "markdown",
   "metadata": {},
   "source": [
    "**Qual a maior, menor e a média de transação dos clientes de acordo com a faixa salarial?**\n",
    "\n",
    "**Query:** select min(valor_transacoes_12m) as transacao_minima, max(valor_transacoes_12m) as transacao_maxima,\n",
    "avg(valor_transacoes_12m) as transacao_media, \"salario_anual\" from credito group by \"salario_anual\" order by transacao_media desc;\n",
    "\n",
    "![Valor transacoes](https://raw.githubusercontent.com/Caiombr/credit_exp_e_analise/main/results/transacaoporsalario.png)\n",
    "\n",
    "> São curiosos esses dados, pois por mais que sejam faixas salarias bem distintas, os valores das transações se encontram bem parecidos ou sem tanta discrepância aparente. Isso mostra como todos os grupos mantém um gasto elevado de toda forma."
   ]
  },
  {
   "cell_type": "markdown",
   "metadata": {},
   "source": [
    "**Quais as características dos clientes que possuem os maiores creditos?**\n",
    "\n",
    "**Query:** \n",
    "select max(limite_credito) as limite_credito, escolaridade, tipo_cartao, sexo, estado_civil \n",
    "from credito \n",
    "where escolaridade != 'na' and tipo_cartao != 'na' and estado_civil != 'na' \n",
    "group by escolaridade, tipo_cartao, sexo, estado_civil \n",
    "order by limite_credito \n",
    "desc limit 10\n",
    "\n",
    "![Valor limite máximo](https://raw.githubusercontent.com/Caiombr/credit_exp_e_analise/main/results/limitemax.png)\n",
    "\n",
    "> Não parece haver um impacto da escolaridade no limite. O limite mais alto é oferecido para um homem sem educação formal. O cartão também parece não estar relacionado com a escolaridade nem com o limite e nem com o estado civil. Mas, a tendência é a dos homens terem um maior limite (9 dos 10 resultados são de homens)\n"
   ]
  },
  {
   "cell_type": "markdown",
   "metadata": {},
   "source": [
    "**Quais as características dos clientes que possuem os menores creditos?**\n",
    "\n",
    "**Query:** \n",
    "select max(limite_credito) as limite_credito, escolaridade, tipo_cartao, sexo, estado_civil \n",
    "from credito \n",
    "where escolaridade != 'na' and tipo_cartao != 'na' and estado_civil != 'na' \n",
    "group by escolaridade, tipo_cartao, sexo, estado_civil \n",
    "order by limite_credito asc limit 10;\n",
    "\n",
    "![Valor limite](https://raw.githubusercontent.com/Caiombr/credit_exp_e_analise/main/results/limitemin.png)\n",
    "\n",
    "> Os 4 menores limites são de mulheres com doutorado, o que talvez mostre que um alto grau acadêmico não garante um limite alto. Também foi possível perceber que todos os 10 menores limites são de mulheres enquanto os maiores limites predomina os homens. Metade das mulheres nesse recorte dos dados também estão divorciadas."
   ]
  },
  {
   "cell_type": "markdown",
   "metadata": {},
   "source": [
    "**Existe alguma relação entre os meses de relacionamento do cliente com a empresa e o limite do banco?**\n",
    "\n",
    "**Query:** \n",
    "SELECT avg(limite_credito) as media_limite, faixa_meses, sexo\n",
    "FROM (\n",
    "  SELECT *, \n",
    "    CASE\n",
    "      WHEN \"meses_de_relacionamento\" >= 1 AND \"meses_de_relacionamento\" <= 10 THEN '1-10'\n",
    "      WHEN \"meses_de_relacionamento\" >= 11 AND \"meses_de_relacionamento\" <= 20 THEN '11-20'\n",
    "      WHEN \"meses_de_relacionamento\" >= 21 AND \"meses_de_relacionamento\" <= 30 THEN '21-30'\n",
    "      WHEN \"meses_de_relacionamento\" >= 31 AND \"meses_de_relacionamento\" <= 40 THEN '31-40'\n",
    "      WHEN \"meses_de_relacionamento\" >= 41 AND \"meses_de_relacionamento\" <= 50 THEN '41-50'\n",
    "      WHEN \"meses_de_relacionamento\" >= 51 AND \"meses_de_relacionamento\" <= 60 THEN '51-60'      \n",
    "      ELSE 'others'\n",
    "    END AS faixa_meses\n",
    "  FROM credito\n",
    ") AS subquery\n",
    "GROUP BY faixa_meses, sexo\n",
    "order by media_limite desc; \n",
    "\n",
    "![Media do limite por Meses Relacionamento](https://raw.githubusercontent.com/Caiombr/credit_exp_e_analise/main/results/avglimitepormeses.png)\n",
    "\n",
    "![Media do limite por Meses Relacionamento - Gráfico](https://raw.githubusercontent.com/Caiombr/credit_exp_e_analise/main/results/avglimitepormesesplot.png)\n",
    "\n",
    ">É possivel perceber que não há uma relação direta da média do limite para mulheres de acordo com os meses como cliente. Mas, para os homens, existe uma tendência de que o limite seja maior entre 31-40 meses, fazendo uma curva ao centro.\n"
   ]
  },
  {
   "cell_type": "markdown",
   "metadata": {},
   "source": [
    "**Será que as mulheres gastam mais?**\n",
    "\n",
    "**Query:** \n",
    "select max(valor_transacoes_12m) as maior_valor_gasto, avg(valor_transacoes_12m) as  media_valor_gasto, min(valor_transacoes_12m) as min_valor_gasto, sexo \n",
    "from credito\n",
    "group by sexo \n",
    "\n",
    "\n",
    "![Valor transacoes/sexo](https://raw.githubusercontent.com/Caiombr/credit_exp_e_analise/main/results/valortransacaoporsexo.png)\n",
    "\n",
    "> Apesar da diferença nos limites, os gastos de homens e mulheres são similares!\n",
    "\n",
    "Por fim, "
   ]
  },
  {
   "cell_type": "markdown",
   "metadata": {},
   "source": [
    "**O salário impacta no limite?**\n",
    "\n",
    "**Query:** select count(*) as Qtde_clientes, avg(valor_transacoes_12m) as media_valor_transacoes, avg(limite_credito) as media_limite,  sexo,   salario_anual from credito \n",
    "where salario_anual != 'na'\n",
    "group by sexo, salario_anual\n",
    "order by media_limite desc\n",
    "\n",
    "![Valor salario_anualLimite](https://raw.githubusercontent.com/Caiombr/credit_exp_e_analise/main/results/limiteporsalario.png)\n",
    "\n",
    ">Como esperado, as pessoas que tem menor faixa salarial também apresentam menor limite de credito. Mas, e se fizermos o comparativo entre clientes ou média do limite com a faixa salarial?\n",
    "\n",
    "![limite por faixa salarial](https://raw.githubusercontent.com/Caiombr/credit_exp_e_analise/main/results/limiteporsalarioplot.png)\n",
    "\n",
    ">Os menores limites salariais estão com as mulheres, assim como as mulheres se encontram na menores faixas salariais.\n",
    "\n",
    "![Clientes por faixa salarial](https://raw.githubusercontent.com/Caiombr/credit_exp_e_analise/main/results/clientesporsalarioplot.png)\n",
    "\n",
    ">As mulheres se encontrar mais presentes na faixa abaixo de $40k, apesar de serem a maior quantidade de clientes da empresa.\n"
   ]
  },
  {
   "cell_type": "markdown",
   "metadata": {},
   "source": [
    "# Conclusão"
   ]
  },
  {
   "cell_type": "markdown",
   "metadata": {},
   "source": [
    "Essas foram **algumas** análises possiveis extraídas do dataset de crédito.  \n",
    "\n",
    "Alguns insights que podem ser trazidos aqui:\n",
    "\n",
    "- a maior parte dos clientes possui renda até 40K, em torno de 35%\n",
    "- a faixa salarial dos clientes homens é maior, mesmo que tenha mais mulheres como clientes\n",
    "- a escolaridade não parece influenciar no limite nem no tipo do cartão\n",
    "- os clientes com maiores limites são em sua maioria homens \n",
    "- os clientes com menores limites são em sua maioria mulheres, inclusive mulheres com alto grau acadêmico\n",
    "- o limite médio das mulheres se mantém constante, mesmo ao passar de muitos meses de relacionamento\n",
    "- a faixa salarial impacta diretamente no limite de crédito\n",
    "- nao existem clientes com salário anual acima de 60K do sexo feminino\n",
    "\n",
    "**Uma exploração maior dos dados pode explicar porque as mulheres tem menor crédito. Isso também pode ser um problema cultural que pode ser repensado!**"
   ]
  }
 ],
 "metadata": {
  "kernelspec": {
   "display_name": "base",
   "language": "python",
   "name": "python3"
  },
  "language_info": {
   "codemirror_mode": {
    "name": "ipython",
    "version": 3
   },
   "file_extension": ".py",
   "mimetype": "text/x-python",
   "name": "python",
   "nbconvert_exporter": "python",
   "pygments_lexer": "ipython3",
   "version": "3.10.11"
  },
  "orig_nbformat": 4
 },
 "nbformat": 4,
 "nbformat_minor": 2
}
